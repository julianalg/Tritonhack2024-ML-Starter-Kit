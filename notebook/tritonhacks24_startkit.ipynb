{
 "cells": [
  {
   "cell_type": "markdown",
   "id": "22db59b6",
   "metadata": {},
   "source": [
    "## Exploritory Data Analysis Introduction"
   ]
  },
  {
   "cell_type": "code",
   "execution_count": 137,
   "id": "1938c3c6-54cc-4ab2-9836-d0dc05818019",
   "metadata": {},
   "outputs": [],
   "source": [
    "#%%\n",
    "import numpy as np \n",
    "import pandas as pd \n",
    "from scipy.stats import pearsonr\n",
    "import matplotlib.pyplot as plt\n",
    "from numpy.polynomial.polynomial import polyfit\n",
    "import warnings \n",
    "warnings.filterwarnings('ignore')"
   ]
  },
  {
   "cell_type": "code",
   "execution_count": 138,
   "id": "06a0108f",
   "metadata": {},
   "outputs": [
    {
     "data": {
      "text/html": [
       "<div>\n",
       "<style scoped>\n",
       "    .dataframe tbody tr th:only-of-type {\n",
       "        vertical-align: middle;\n",
       "    }\n",
       "\n",
       "    .dataframe tbody tr th {\n",
       "        vertical-align: top;\n",
       "    }\n",
       "\n",
       "    .dataframe thead th {\n",
       "        text-align: right;\n",
       "    }\n",
       "</style>\n",
       "<table border=\"1\" class=\"dataframe\">\n",
       "  <thead>\n",
       "    <tr style=\"text-align: right;\">\n",
       "      <th></th>\n",
       "      <th>id</th>\n",
       "      <th>Sex</th>\n",
       "      <th>Length</th>\n",
       "      <th>Diameter</th>\n",
       "      <th>Height</th>\n",
       "      <th>Weight</th>\n",
       "      <th>Shucked Weight</th>\n",
       "      <th>Viscera Weight</th>\n",
       "      <th>Shell Weight</th>\n",
       "      <th>Age</th>\n",
       "    </tr>\n",
       "  </thead>\n",
       "  <tbody>\n",
       "    <tr>\n",
       "      <th>0</th>\n",
       "      <td>0</td>\n",
       "      <td>M</td>\n",
       "      <td>1.5750</td>\n",
       "      <td>1.2250</td>\n",
       "      <td>0.3750</td>\n",
       "      <td>31.226974</td>\n",
       "      <td>12.303683</td>\n",
       "      <td>6.321938</td>\n",
       "      <td>9.638830</td>\n",
       "      <td>10.0</td>\n",
       "    </tr>\n",
       "    <tr>\n",
       "      <th>1</th>\n",
       "      <td>1</td>\n",
       "      <td>I</td>\n",
       "      <td>1.2375</td>\n",
       "      <td>1.0000</td>\n",
       "      <td>0.3750</td>\n",
       "      <td>21.885814</td>\n",
       "      <td>7.654365</td>\n",
       "      <td>3.798833</td>\n",
       "      <td>7.654365</td>\n",
       "      <td>19.0</td>\n",
       "    </tr>\n",
       "    <tr>\n",
       "      <th>2</th>\n",
       "      <td>2</td>\n",
       "      <td>F</td>\n",
       "      <td>1.4500</td>\n",
       "      <td>1.1625</td>\n",
       "      <td>0.4125</td>\n",
       "      <td>28.250277</td>\n",
       "      <td>11.127179</td>\n",
       "      <td>7.016501</td>\n",
       "      <td>7.257472</td>\n",
       "      <td>11.0</td>\n",
       "    </tr>\n",
       "    <tr>\n",
       "      <th>3</th>\n",
       "      <td>3</td>\n",
       "      <td>I</td>\n",
       "      <td>1.3500</td>\n",
       "      <td>1.0250</td>\n",
       "      <td>0.3750</td>\n",
       "      <td>21.588144</td>\n",
       "      <td>9.738053</td>\n",
       "      <td>4.110678</td>\n",
       "      <td>6.378637</td>\n",
       "      <td>9.0</td>\n",
       "    </tr>\n",
       "    <tr>\n",
       "      <th>4</th>\n",
       "      <td>4</td>\n",
       "      <td>I</td>\n",
       "      <td>1.1375</td>\n",
       "      <td>0.8750</td>\n",
       "      <td>0.2875</td>\n",
       "      <td>14.968536</td>\n",
       "      <td>5.953395</td>\n",
       "      <td>2.962523</td>\n",
       "      <td>3.713785</td>\n",
       "      <td>8.0</td>\n",
       "    </tr>\n",
       "  </tbody>\n",
       "</table>\n",
       "</div>"
      ],
      "text/plain": [
       "   id Sex  Length  Diameter  Height     Weight  Shucked Weight  \\\n",
       "0   0   M  1.5750    1.2250  0.3750  31.226974       12.303683   \n",
       "1   1   I  1.2375    1.0000  0.3750  21.885814        7.654365   \n",
       "2   2   F  1.4500    1.1625  0.4125  28.250277       11.127179   \n",
       "3   3   I  1.3500    1.0250  0.3750  21.588144        9.738053   \n",
       "4   4   I  1.1375    0.8750  0.2875  14.968536        5.953395   \n",
       "\n",
       "   Viscera Weight  Shell Weight   Age  \n",
       "0        6.321938      9.638830  10.0  \n",
       "1        3.798833      7.654365  19.0  \n",
       "2        7.016501      7.257472  11.0  \n",
       "3        4.110678      6.378637   9.0  \n",
       "4        2.962523      3.713785   8.0  "
      ]
     },
     "execution_count": 138,
     "metadata": {},
     "output_type": "execute_result"
    }
   ],
   "source": [
    "data = pd.read_csv('train_extended.csv')\n",
    "data.head()\n"
   ]
  },
  {
   "cell_type": "markdown",
   "id": "de62618c",
   "metadata": {},
   "source": [
    "### Calculating Mean Value of Variables\n",
    "\n",
    "We can start exploring the data by first looking at data for each variable based on categorical values. In this example, we compute the mean for each variable for *male only* crabs. Similar analysis can be done for other categorical values such as crabs classified as female or indeterminate."
   ]
  },
  {
   "cell_type": "code",
   "execution_count": 139,
   "id": "9bcec4c3",
   "metadata": {},
   "outputs": [
    {
     "name": "stdout",
     "output_type": "stream",
     "text": [
      "Male Only Data \n",
      "\n",
      "Variable Length Average: 1.434\n",
      "Variable Diameter Average: 1.122\n",
      "Variable Height Average: 0.383\n",
      "Variable Weight Average: 28.230\n",
      "Variable Shucked Weight Average: 12.226\n",
      "Variable Viscera Weight Average: 6.101\n",
      "Variable Shell Weight Average: 8.039\n",
      "Variable Age Average: 10.935\n"
     ]
    }
   ],
   "source": [
    "data_male_only = data[data['Sex']=='M']\n",
    "data_female_only = data[data['Sex']=='F']\n",
    "data_indeterminate_only = data[data['Sex']=='I']\n",
    "\n",
    "# Change the dataset based on what is being evaluated\n",
    "print(\"Male Only Data\", \"\\n\")\n",
    "\n",
    "for var in data_male_only.columns[2:10]:\n",
    "\n",
    "    var_data = data_male_only[var]\n",
    "    var_data = np.array(var_data)\n",
    "\n",
    "    # Calculate average using NumPy's in-built functions\n",
    "    avg = np.mean(var_data)\n",
    "\n",
    "    print('Variable {} Average: {:.3f}'.format(var, avg))\n",
    "\n"
   ]
  },
  {
   "cell_type": "markdown",
   "id": "04858f94",
   "metadata": {},
   "source": [
    "### Calculating Correlation Between Variables\n",
    "Now that we have a basic understanding of the data, let's look for correlations between different variables. Since we want to predict the average age, we'll experiment with data from columns 3 to 9 ('length' through 'shell weight') as our X variable and set age as the Y variable. We use Pearson R to find the correlation coefficient."
   ]
  },
  {
   "cell_type": "code",
   "execution_count": 140,
   "id": "efa919e9",
   "metadata": {},
   "outputs": [
    {
     "name": "stdout",
     "output_type": "stream",
     "text": [
      "Correlation Coefficients \n",
      "\n",
      "Length: 0.623\n",
      "Diameter: 0.631\n",
      "Height: 0.663\n",
      "Weight: 0.614\n",
      "Shucked Weight: 0.504\n",
      "Viscera Weight: 0.584\n",
      "Shell Weight: 0.684\n"
     ]
    }
   ],
   "source": [
    "y = data['Age']\n",
    "X = data.drop(['id','Sex','Age'],axis=1)\n",
    "\n",
    "print(\"Correlation Coefficients\", \"\\n\")\n",
    "for var in X.columns:\n",
    "    corr, _ = pearsonr(X[var],y)\n",
    "\n",
    "    print('{}: {:.3f}'.format(var, corr))\n"
   ]
  },
  {
   "cell_type": "markdown",
   "id": "d50b985a",
   "metadata": {},
   "source": [
    "### Visualizing Data\n",
    "\n",
    "We can use the scatterplot from Matplotlib to visualize the data."
   ]
  },
  {
   "cell_type": "code",
   "execution_count": 142,
   "id": "fd108303",
   "metadata": {},
   "outputs": [
    {
     "data": {
      "image/png": "[encoded data removed]",
      "text/plain": [
       "<Figure size 640x480 with 1 Axes>"
      ]
     },
     "metadata": {},
     "output_type": "display_data"
    }
   ],
   "source": [
    "X_shell_weight = X['Shell Weight']\n",
    "\n",
    "# Find line of best fit\n",
    "b, m = polyfit(X_shell_weight, y, 1)\n",
    "\n",
    "plt.scatter(X_shell_weight, y)\n",
    "\n",
    "plt.plot(X_shell_weight, b + m * X_shell_weight, color = 'red', linestyle = '-', linewidth = 2)\n",
    "plt.xlabel(\"Shell Weight\")\n",
    "plt.ylabel(\"Age\")\n",
    "plt.show()"
   ]
  }
 ],
 "metadata": {
  "kernelspec": {
   "display_name": "Python 3 (ipykernel)",
   "language": "python",
   "name": "python3"
  },
  "language_info": {
   "codemirror_mode": {
    "name": "ipython",
    "version": 3
   },
   "file_extension": ".py",
   "mimetype": "text/x-python",
   "name": "python",
   "nbconvert_exporter": "python",
   "pygments_lexer": "ipython3",
   "version": "3.9.18"
  }
 },
 "nbformat": 4,
 "nbformat_minor": 5
}
