{
 "cells": [
  {
   "cell_type": "markdown",
   "metadata": {},
   "source": [
    "# Welcome to the Intro to Machine Learning with TritonHack 2024!\n",
    "\n",
    "### Importing Packages\n",
    "Import statements allow us to use library and the built-in functions within the library so we can utilize them!\\\n",
    "First, we are going to import pacakges that are going to be very basic for the Data Science Project!"
   ]
  },
  {
   "cell_type": "code",
   "execution_count": 3,
   "metadata": {},
   "outputs": [],
   "source": [
    "import numpy as np\n",
    "import pandas as pd\n",
    "import warnings\n",
    "warnings.filterwarnings('ignore')"
   ]
  },
  {
   "cell_type": "markdown",
   "metadata": {},
   "source": [
    "First, we are going to start off with loading the data. \\\n",
    "You do not have to follow our structure and replace the string in read_csv() with the anticipated path.\\\n",
    "For now, we can use the given structure and dataset.\\\n",
    "\\\n",
    "read_csv() function will allow us to load the dataset in csv format into the format called DataFrame which is a super common form of data in Data Science.\n",
    "head() function is a built in function within Dataframe which will only let you see the top portion of it."
   ]
  },
  {
   "cell_type": "code",
   "execution_count": 4,
   "metadata": {},
   "outputs": [
    {
     "data": {
      "text/html": [
       "<div>\n",
       "<style scoped>\n",
       "    .dataframe tbody tr th:only-of-type {\n",
       "        vertical-align: middle;\n",
       "    }\n",
       "\n",
       "    .dataframe tbody tr th {\n",
       "        vertical-align: top;\n",
       "    }\n",
       "\n",
       "    .dataframe thead th {\n",
       "        text-align: right;\n",
       "    }\n",
       "</style>\n",
       "<table border=\"1\" class=\"dataframe\">\n",
       "  <thead>\n",
       "    <tr style=\"text-align: right;\">\n",
       "      <th></th>\n",
       "      <th>id</th>\n",
       "      <th>Sex</th>\n",
       "      <th>Length</th>\n",
       "      <th>Diameter</th>\n",
       "      <th>Height</th>\n",
       "      <th>Weight</th>\n",
       "      <th>Shucked Weight</th>\n",
       "      <th>Viscera Weight</th>\n",
       "      <th>Shell Weight</th>\n",
       "      <th>Age</th>\n",
       "    </tr>\n",
       "  </thead>\n",
       "  <tbody>\n",
       "    <tr>\n",
       "      <th>0</th>\n",
       "      <td>0</td>\n",
       "      <td>M</td>\n",
       "      <td>1.5750</td>\n",
       "      <td>1.2250</td>\n",
       "      <td>0.3750</td>\n",
       "      <td>31.226974</td>\n",
       "      <td>12.303683</td>\n",
       "      <td>6.321938</td>\n",
       "      <td>9.638830</td>\n",
       "      <td>10.0</td>\n",
       "    </tr>\n",
       "    <tr>\n",
       "      <th>1</th>\n",
       "      <td>1</td>\n",
       "      <td>I</td>\n",
       "      <td>1.2375</td>\n",
       "      <td>1.0000</td>\n",
       "      <td>0.3750</td>\n",
       "      <td>21.885814</td>\n",
       "      <td>7.654365</td>\n",
       "      <td>3.798833</td>\n",
       "      <td>7.654365</td>\n",
       "      <td>19.0</td>\n",
       "    </tr>\n",
       "    <tr>\n",
       "      <th>2</th>\n",
       "      <td>2</td>\n",
       "      <td>F</td>\n",
       "      <td>1.4500</td>\n",
       "      <td>1.1625</td>\n",
       "      <td>0.4125</td>\n",
       "      <td>28.250277</td>\n",
       "      <td>11.127179</td>\n",
       "      <td>7.016501</td>\n",
       "      <td>7.257472</td>\n",
       "      <td>11.0</td>\n",
       "    </tr>\n",
       "    <tr>\n",
       "      <th>3</th>\n",
       "      <td>3</td>\n",
       "      <td>I</td>\n",
       "      <td>1.3500</td>\n",
       "      <td>1.0250</td>\n",
       "      <td>0.3750</td>\n",
       "      <td>21.588144</td>\n",
       "      <td>9.738053</td>\n",
       "      <td>4.110678</td>\n",
       "      <td>6.378637</td>\n",
       "      <td>9.0</td>\n",
       "    </tr>\n",
       "    <tr>\n",
       "      <th>4</th>\n",
       "      <td>4</td>\n",
       "      <td>I</td>\n",
       "      <td>1.1375</td>\n",
       "      <td>0.8750</td>\n",
       "      <td>0.2875</td>\n",
       "      <td>14.968536</td>\n",
       "      <td>5.953395</td>\n",
       "      <td>2.962523</td>\n",
       "      <td>3.713785</td>\n",
       "      <td>8.0</td>\n",
       "    </tr>\n",
       "  </tbody>\n",
       "</table>\n",
       "</div>"
      ],
      "text/plain": [
       "   id Sex  Length  Diameter  Height     Weight  Shucked Weight  \\\n",
       "0   0   M  1.5750    1.2250  0.3750  31.226974       12.303683   \n",
       "1   1   I  1.2375    1.0000  0.3750  21.885814        7.654365   \n",
       "2   2   F  1.4500    1.1625  0.4125  28.250277       11.127179   \n",
       "3   3   I  1.3500    1.0250  0.3750  21.588144        9.738053   \n",
       "4   4   I  1.1375    0.8750  0.2875  14.968536        5.953395   \n",
       "\n",
       "   Viscera Weight  Shell Weight   Age  \n",
       "0        6.321938      9.638830  10.0  \n",
       "1        3.798833      7.654365  19.0  \n",
       "2        7.016501      7.257472  11.0  \n",
       "3        4.110678      6.378637   9.0  \n",
       "4        2.962523      3.713785   8.0  "
      ]
     },
     "execution_count": 4,
     "metadata": {},
     "output_type": "execute_result"
    }
   ],
   "source": [
    "data = pd.read_csv('/Users/russgang/Downloads/train_extended.csv')\n",
    "data.head()"
   ]
  },
  {
   "cell_type": "markdown",
   "metadata": {},
   "source": [
    "So let's see what are some columns that we have right now."
   ]
  },
  {
   "cell_type": "code",
   "execution_count": 5,
   "metadata": {},
   "outputs": [
    {
     "data": {
      "text/plain": [
       "Index(['id', 'Sex', 'Length', 'Diameter', 'Height', 'Weight', 'Shucked Weight',\n",
       "       'Viscera Weight', 'Shell Weight', 'Age'],\n",
       "      dtype='object')"
      ]
     },
     "execution_count": 5,
     "metadata": {},
     "output_type": "execute_result"
    }
   ],
   "source": [
    "data.columns"
   ]
  },
  {
   "cell_type": "markdown",
   "metadata": {},
   "source": [
    "Seems like column 'id' is just and index so we will not be using that"
   ]
  },
  {
   "cell_type": "code",
   "execution_count": 6,
   "metadata": {},
   "outputs": [
    {
     "data": {
      "text/html": [
       "<div>\n",
       "<style scoped>\n",
       "    .dataframe tbody tr th:only-of-type {\n",
       "        vertical-align: middle;\n",
       "    }\n",
       "\n",
       "    .dataframe tbody tr th {\n",
       "        vertical-align: top;\n",
       "    }\n",
       "\n",
       "    .dataframe thead th {\n",
       "        text-align: right;\n",
       "    }\n",
       "</style>\n",
       "<table border=\"1\" class=\"dataframe\">\n",
       "  <thead>\n",
       "    <tr style=\"text-align: right;\">\n",
       "      <th></th>\n",
       "      <th>Sex</th>\n",
       "      <th>Length</th>\n",
       "      <th>Diameter</th>\n",
       "      <th>Height</th>\n",
       "      <th>Weight</th>\n",
       "      <th>Shucked Weight</th>\n",
       "      <th>Viscera Weight</th>\n",
       "      <th>Shell Weight</th>\n",
       "      <th>Age</th>\n",
       "    </tr>\n",
       "  </thead>\n",
       "  <tbody>\n",
       "    <tr>\n",
       "      <th>0</th>\n",
       "      <td>M</td>\n",
       "      <td>1.5750</td>\n",
       "      <td>1.2250</td>\n",
       "      <td>0.3750</td>\n",
       "      <td>31.226974</td>\n",
       "      <td>12.303683</td>\n",
       "      <td>6.321938</td>\n",
       "      <td>9.638830</td>\n",
       "      <td>10.0</td>\n",
       "    </tr>\n",
       "    <tr>\n",
       "      <th>1</th>\n",
       "      <td>I</td>\n",
       "      <td>1.2375</td>\n",
       "      <td>1.0000</td>\n",
       "      <td>0.3750</td>\n",
       "      <td>21.885814</td>\n",
       "      <td>7.654365</td>\n",
       "      <td>3.798833</td>\n",
       "      <td>7.654365</td>\n",
       "      <td>19.0</td>\n",
       "    </tr>\n",
       "    <tr>\n",
       "      <th>2</th>\n",
       "      <td>F</td>\n",
       "      <td>1.4500</td>\n",
       "      <td>1.1625</td>\n",
       "      <td>0.4125</td>\n",
       "      <td>28.250277</td>\n",
       "      <td>11.127179</td>\n",
       "      <td>7.016501</td>\n",
       "      <td>7.257472</td>\n",
       "      <td>11.0</td>\n",
       "    </tr>\n",
       "    <tr>\n",
       "      <th>3</th>\n",
       "      <td>I</td>\n",
       "      <td>1.3500</td>\n",
       "      <td>1.0250</td>\n",
       "      <td>0.3750</td>\n",
       "      <td>21.588144</td>\n",
       "      <td>9.738053</td>\n",
       "      <td>4.110678</td>\n",
       "      <td>6.378637</td>\n",
       "      <td>9.0</td>\n",
       "    </tr>\n",
       "    <tr>\n",
       "      <th>4</th>\n",
       "      <td>I</td>\n",
       "      <td>1.1375</td>\n",
       "      <td>0.8750</td>\n",
       "      <td>0.2875</td>\n",
       "      <td>14.968536</td>\n",
       "      <td>5.953395</td>\n",
       "      <td>2.962523</td>\n",
       "      <td>3.713785</td>\n",
       "      <td>8.0</td>\n",
       "    </tr>\n",
       "  </tbody>\n",
       "</table>\n",
       "</div>"
      ],
      "text/plain": [
       "  Sex  Length  Diameter  Height     Weight  Shucked Weight  Viscera Weight  \\\n",
       "0   M  1.5750    1.2250  0.3750  31.226974       12.303683        6.321938   \n",
       "1   I  1.2375    1.0000  0.3750  21.885814        7.654365        3.798833   \n",
       "2   F  1.4500    1.1625  0.4125  28.250277       11.127179        7.016501   \n",
       "3   I  1.3500    1.0250  0.3750  21.588144        9.738053        4.110678   \n",
       "4   I  1.1375    0.8750  0.2875  14.968536        5.953395        2.962523   \n",
       "\n",
       "   Shell Weight   Age  \n",
       "0      9.638830  10.0  \n",
       "1      7.654365  19.0  \n",
       "2      7.257472  11.0  \n",
       "3      6.378637   9.0  \n",
       "4      3.713785   8.0  "
      ]
     },
     "execution_count": 6,
     "metadata": {},
     "output_type": "execute_result"
    }
   ],
   "source": [
    "data = data.drop(['id'],axis=1)\n",
    "data.head()"
   ]
  },
  {
   "cell_type": "markdown",
   "metadata": {},
   "source": [
    "# Baseline Model\n",
    "\n",
    "Let's start with the very basic model! We are going to be use the linear regression model from scikit-learn.\\\n",
    "This will be our very base model and your goal is to build a model that performs better!\\\n",
    "\n",
    "## Linear Regression\n",
    "\n",
    "It is a very fundamental algorithm in statistic and the simplest way to explain linear regression is to find the 'line of best fit'.\\\n",
    "There will be different given factors(which we call them 'variables') such as length, diameter, etc. and the model will determine the age based on the given factors\\\n",
    "As a data scientist, one of our main jobs is to find the relevant variables out of given information."
   ]
  },
  {
   "cell_type": "markdown",
   "metadata": {},
   "source": [
    "So first, we will start by importing the pre-built model"
   ]
  },
  {
   "cell_type": "code",
   "execution_count": 7,
   "metadata": {},
   "outputs": [],
   "source": [
    "from sklearn.linear_model import LinearRegression\n",
    "from sklearn.model_selection import train_test_split"
   ]
  },
  {
   "cell_type": "markdown",
   "metadata": {},
   "source": [
    "Since Linear Regression is technically a mathmetical equation(or prompt), we will drop column 'sex' which is a string value, not integer or simply, number.\\\n",
    "(However, sex might be, or probably, relavant information that we want to utilize. We will teach you how to utilize them later on)."
   ]
  },
  {
   "cell_type": "markdown",
   "metadata": {},
   "source": [
    "We will save data without 'sex' in the seperate dataframe called 'data_no_sex' since we might still want to have an access to the full data."
   ]
  },
  {
   "cell_type": "code",
   "execution_count": 8,
   "metadata": {},
   "outputs": [
    {
     "data": {
      "text/html": [
       "<div>\n",
       "<style scoped>\n",
       "    .dataframe tbody tr th:only-of-type {\n",
       "        vertical-align: middle;\n",
       "    }\n",
       "\n",
       "    .dataframe tbody tr th {\n",
       "        vertical-align: top;\n",
       "    }\n",
       "\n",
       "    .dataframe thead th {\n",
       "        text-align: right;\n",
       "    }\n",
       "</style>\n",
       "<table border=\"1\" class=\"dataframe\">\n",
       "  <thead>\n",
       "    <tr style=\"text-align: right;\">\n",
       "      <th></th>\n",
       "      <th>Length</th>\n",
       "      <th>Diameter</th>\n",
       "      <th>Height</th>\n",
       "      <th>Weight</th>\n",
       "      <th>Shucked Weight</th>\n",
       "      <th>Viscera Weight</th>\n",
       "      <th>Shell Weight</th>\n",
       "      <th>Age</th>\n",
       "    </tr>\n",
       "  </thead>\n",
       "  <tbody>\n",
       "    <tr>\n",
       "      <th>0</th>\n",
       "      <td>1.5750</td>\n",
       "      <td>1.2250</td>\n",
       "      <td>0.3750</td>\n",
       "      <td>31.226974</td>\n",
       "      <td>12.303683</td>\n",
       "      <td>6.321938</td>\n",
       "      <td>9.638830</td>\n",
       "      <td>10.0</td>\n",
       "    </tr>\n",
       "    <tr>\n",
       "      <th>1</th>\n",
       "      <td>1.2375</td>\n",
       "      <td>1.0000</td>\n",
       "      <td>0.3750</td>\n",
       "      <td>21.885814</td>\n",
       "      <td>7.654365</td>\n",
       "      <td>3.798833</td>\n",
       "      <td>7.654365</td>\n",
       "      <td>19.0</td>\n",
       "    </tr>\n",
       "    <tr>\n",
       "      <th>2</th>\n",
       "      <td>1.4500</td>\n",
       "      <td>1.1625</td>\n",
       "      <td>0.4125</td>\n",
       "      <td>28.250277</td>\n",
       "      <td>11.127179</td>\n",
       "      <td>7.016501</td>\n",
       "      <td>7.257472</td>\n",
       "      <td>11.0</td>\n",
       "    </tr>\n",
       "    <tr>\n",
       "      <th>3</th>\n",
       "      <td>1.3500</td>\n",
       "      <td>1.0250</td>\n",
       "      <td>0.3750</td>\n",
       "      <td>21.588144</td>\n",
       "      <td>9.738053</td>\n",
       "      <td>4.110678</td>\n",
       "      <td>6.378637</td>\n",
       "      <td>9.0</td>\n",
       "    </tr>\n",
       "    <tr>\n",
       "      <th>4</th>\n",
       "      <td>1.1375</td>\n",
       "      <td>0.8750</td>\n",
       "      <td>0.2875</td>\n",
       "      <td>14.968536</td>\n",
       "      <td>5.953395</td>\n",
       "      <td>2.962523</td>\n",
       "      <td>3.713785</td>\n",
       "      <td>8.0</td>\n",
       "    </tr>\n",
       "  </tbody>\n",
       "</table>\n",
       "</div>"
      ],
      "text/plain": [
       "   Length  Diameter  Height     Weight  Shucked Weight  Viscera Weight  \\\n",
       "0  1.5750    1.2250  0.3750  31.226974       12.303683        6.321938   \n",
       "1  1.2375    1.0000  0.3750  21.885814        7.654365        3.798833   \n",
       "2  1.4500    1.1625  0.4125  28.250277       11.127179        7.016501   \n",
       "3  1.3500    1.0250  0.3750  21.588144        9.738053        4.110678   \n",
       "4  1.1375    0.8750  0.2875  14.968536        5.953395        2.962523   \n",
       "\n",
       "   Shell Weight   Age  \n",
       "0      9.638830  10.0  \n",
       "1      7.654365  19.0  \n",
       "2      7.257472  11.0  \n",
       "3      6.378637   9.0  \n",
       "4      3.713785   8.0  "
      ]
     },
     "execution_count": 8,
     "metadata": {},
     "output_type": "execute_result"
    }
   ],
   "source": [
    "data_no_sex =  data.drop(['Sex'],axis=1)\n",
    "data_no_sex.head()"
   ]
  },
  {
   "cell_type": "code",
   "execution_count": 9,
   "metadata": {},
   "outputs": [
    {
     "data": {
      "text/html": [
       "<div>\n",
       "<style scoped>\n",
       "    .dataframe tbody tr th:only-of-type {\n",
       "        vertical-align: middle;\n",
       "    }\n",
       "\n",
       "    .dataframe tbody tr th {\n",
       "        vertical-align: top;\n",
       "    }\n",
       "\n",
       "    .dataframe thead th {\n",
       "        text-align: right;\n",
       "    }\n",
       "</style>\n",
       "<table border=\"1\" class=\"dataframe\">\n",
       "  <thead>\n",
       "    <tr style=\"text-align: right;\">\n",
       "      <th></th>\n",
       "      <th>Sex</th>\n",
       "      <th>Length</th>\n",
       "      <th>Diameter</th>\n",
       "      <th>Height</th>\n",
       "      <th>Weight</th>\n",
       "      <th>Shucked Weight</th>\n",
       "      <th>Viscera Weight</th>\n",
       "      <th>Shell Weight</th>\n",
       "      <th>Age</th>\n",
       "    </tr>\n",
       "  </thead>\n",
       "  <tbody>\n",
       "    <tr>\n",
       "      <th>0</th>\n",
       "      <td>M</td>\n",
       "      <td>1.5750</td>\n",
       "      <td>1.2250</td>\n",
       "      <td>0.3750</td>\n",
       "      <td>31.226974</td>\n",
       "      <td>12.303683</td>\n",
       "      <td>6.321938</td>\n",
       "      <td>9.638830</td>\n",
       "      <td>10.0</td>\n",
       "    </tr>\n",
       "    <tr>\n",
       "      <th>1</th>\n",
       "      <td>I</td>\n",
       "      <td>1.2375</td>\n",
       "      <td>1.0000</td>\n",
       "      <td>0.3750</td>\n",
       "      <td>21.885814</td>\n",
       "      <td>7.654365</td>\n",
       "      <td>3.798833</td>\n",
       "      <td>7.654365</td>\n",
       "      <td>19.0</td>\n",
       "    </tr>\n",
       "    <tr>\n",
       "      <th>2</th>\n",
       "      <td>F</td>\n",
       "      <td>1.4500</td>\n",
       "      <td>1.1625</td>\n",
       "      <td>0.4125</td>\n",
       "      <td>28.250277</td>\n",
       "      <td>11.127179</td>\n",
       "      <td>7.016501</td>\n",
       "      <td>7.257472</td>\n",
       "      <td>11.0</td>\n",
       "    </tr>\n",
       "    <tr>\n",
       "      <th>3</th>\n",
       "      <td>I</td>\n",
       "      <td>1.3500</td>\n",
       "      <td>1.0250</td>\n",
       "      <td>0.3750</td>\n",
       "      <td>21.588144</td>\n",
       "      <td>9.738053</td>\n",
       "      <td>4.110678</td>\n",
       "      <td>6.378637</td>\n",
       "      <td>9.0</td>\n",
       "    </tr>\n",
       "    <tr>\n",
       "      <th>4</th>\n",
       "      <td>I</td>\n",
       "      <td>1.1375</td>\n",
       "      <td>0.8750</td>\n",
       "      <td>0.2875</td>\n",
       "      <td>14.968536</td>\n",
       "      <td>5.953395</td>\n",
       "      <td>2.962523</td>\n",
       "      <td>3.713785</td>\n",
       "      <td>8.0</td>\n",
       "    </tr>\n",
       "  </tbody>\n",
       "</table>\n",
       "</div>"
      ],
      "text/plain": [
       "  Sex  Length  Diameter  Height     Weight  Shucked Weight  Viscera Weight  \\\n",
       "0   M  1.5750    1.2250  0.3750  31.226974       12.303683        6.321938   \n",
       "1   I  1.2375    1.0000  0.3750  21.885814        7.654365        3.798833   \n",
       "2   F  1.4500    1.1625  0.4125  28.250277       11.127179        7.016501   \n",
       "3   I  1.3500    1.0250  0.3750  21.588144        9.738053        4.110678   \n",
       "4   I  1.1375    0.8750  0.2875  14.968536        5.953395        2.962523   \n",
       "\n",
       "   Shell Weight   Age  \n",
       "0      9.638830  10.0  \n",
       "1      7.654365  19.0  \n",
       "2      7.257472  11.0  \n",
       "3      6.378637   9.0  \n",
       "4      3.713785   8.0  "
      ]
     },
     "execution_count": 9,
     "metadata": {},
     "output_type": "execute_result"
    }
   ],
   "source": [
    "data.head()"
   ]
  },
  {
   "cell_type": "markdown",
   "metadata": {},
   "source": [
    "## Linear Regression Model\n",
    "\n",
    "What we are going to do is to split our dataset into 2 differet subset: training and test set\\\n",
    "What are those?\\\n",
    "Training set is used to literally \"train\" the model. The model will understand the pattern between given variables and determine the value.\\\n",
    "Test set is used to \"test\" how well our model perform. Using given function of sckit-learn, we will split them into training and test.\n",
    "\n",
    "test_size parameter refers the the proportion(size) of the test dataset out of the whole dataset.\\\n",
    "random_state is setting a seed. Though train_test_split supposed to be random function, to see if you are actually making progress,\\\n",
    "you might want to compare ouputs under same conditions. To do so, we are setting a 'seed'(like Minecraft!)."
   ]
  },
  {
   "cell_type": "markdown",
   "metadata": {},
   "source": [
    "## Independent and Dependent variable\n",
    "\n",
    "Independent variables are what we expect will influence dependent variables. A dependent variable is what happens as a result of the independent variable.\\\n",
    "In machine learning project, we want to 'predict' dependent variable(or so called 'Y' of the function) using independent variable(or so called 'X').\\\n",
    "In our case, we want to predict the age, so age will be dependent variable(or y) and the rest will be independent variables(or X)"
   ]
  },
  {
   "cell_type": "code",
   "execution_count": 10,
   "metadata": {},
   "outputs": [],
   "source": [
    "y = data_no_sex['Age']\n",
    "X = data_no_sex.drop(['Age'],axis=1)\n",
    "X_train, X_test, y_train, y_test = train_test_split(X, y, test_size=0.33, random_state=21)"
   ]
  },
  {
   "cell_type": "code",
   "execution_count": 11,
   "metadata": {},
   "outputs": [
    {
     "name": "stdout",
     "output_type": "stream",
     "text": [
      "200000\n",
      "200000\n",
      "200000\n",
      "134000\n",
      "66000\n",
      "134000\n",
      "66000\n"
     ]
    }
   ],
   "source": [
    "print(len(data_no_sex))\n",
    "print(len(X))\n",
    "print(len(y))\n",
    "print(len(X_train))\n",
    "print(len(X_test))\n",
    "print(len(y_train))\n",
    "print(len(y_test))"
   ]
  },
  {
   "cell_type": "markdown",
   "metadata": {},
   "source": [
    "Here, the fit() function generates the trained model with the given dataset.\\\n",
    "The score() function shows how \"well\" the model is predicting. \\\n",
    "0 shows the model is completely random(or not finding any correlation between independent and dependent variables)\\\n",
    "while 1 is saying the model found the complete relationship between independent and dependent variables."
   ]
  },
  {
   "cell_type": "code",
   "execution_count": 12,
   "metadata": {},
   "outputs": [
    {
     "data": {
      "text/plain": [
       "0.5850547046920661"
      ]
     },
     "execution_count": 12,
     "metadata": {},
     "output_type": "execute_result"
    }
   ],
   "source": [
    "model = LinearRegression().fit(X_train, y_train)\n",
    "model.score(X_train, y_train)\n"
   ]
  },
  {
   "cell_type": "code",
   "execution_count": 13,
   "metadata": {},
   "outputs": [
    {
     "data": {
      "text/plain": [
       "0.5843721260834411"
      ]
     },
     "execution_count": 13,
     "metadata": {},
     "output_type": "execute_result"
    }
   ],
   "source": [
    "model.score(X_test, y_test)"
   ]
  },
  {
   "cell_type": "markdown",
   "metadata": {},
   "source": [
    "Model has slightly lower score on test set compared to the result of training set. Why?"
   ]
  },
  {
   "cell_type": "markdown",
   "metadata": {},
   "source": [
    "This how to view coefficients(which shows that 'relationship', or how much each independet variable affects the depedent variable)\\\n",
    "and interncept(y-intercept in this case because we are trying to find the 'line of best fit')."
   ]
  },
  {
   "cell_type": "code",
   "execution_count": 14,
   "metadata": {},
   "outputs": [
    {
     "name": "stdout",
     "output_type": "stream",
     "text": [
      "[ 0.6968879   1.92073051 10.49583148  0.24035778 -0.67270173 -0.30180624\n",
      "  0.55927075]\n",
      "2.4008549738556324\n"
     ]
    }
   ],
   "source": [
    "print(model.coef_)\n",
    "print(model.intercept_)"
   ]
  },
  {
   "cell_type": "markdown",
   "metadata": {},
   "source": [
    "Now this is the time to see the actual prediction values that our model is generating."
   ]
  },
  {
   "cell_type": "code",
   "execution_count": 15,
   "metadata": {},
   "outputs": [
    {
     "data": {
      "text/plain": [
       "array([ 8.22609159, 11.13267397, 10.8144085 , ...,  9.81120564,\n",
       "       15.67518525, 13.82155203])"
      ]
     },
     "execution_count": 15,
     "metadata": {},
     "output_type": "execute_result"
    }
   ],
   "source": [
    "prediction = model.predict(X_train)\n",
    "prediction\n"
   ]
  },
  {
   "cell_type": "markdown",
   "metadata": {},
   "source": [
    "One of the most common ways to quantify the error of the model is the root mean squared error (RMSE)\\\n",
    "Under given predictions of the model, we calculate the difference between the prediction and the actual value(or observed value),\\\n",
    "square the difference, calculated the mean of the squared difference, and 'root'(square root) them.\\\n",
    "\\\n",
    "This function will allow us to calculate RMSE\n",
    "(and cool thing about numpy array is that it works as a 'vector' or 'matrix' where we do not need to use any iteration but just treat them as a number)"
   ]
  },
  {
   "cell_type": "code",
   "execution_count": 16,
   "metadata": {},
   "outputs": [],
   "source": [
    "def RMSE(y,pred):\n",
    "    return np.sqrt(np.mean((y-pred)**2))"
   ]
  },
  {
   "cell_type": "code",
   "execution_count": 17,
   "metadata": {},
   "outputs": [
    {
     "data": {
      "text/plain": [
       "2.0671819979401156"
      ]
     },
     "execution_count": 17,
     "metadata": {},
     "output_type": "execute_result"
    }
   ],
   "source": [
    "RMSE(y_train,prediction)"
   ]
  },
  {
   "cell_type": "markdown",
   "metadata": {},
   "source": [
    "### Wait...\n",
    "If you look back, the predictions are decimal numbers....\n",
    "But is it possible to have decimal number as your age?(Unless you want to be specific and sound like a weirdo).\n",
    "Therefore, we will use round() to round the number to integer."
   ]
  },
  {
   "cell_type": "code",
   "execution_count": 18,
   "metadata": {},
   "outputs": [
    {
     "data": {
      "text/plain": [
       "array([ 8, 11, 11, ..., 10, 16, 14])"
      ]
     },
     "execution_count": 18,
     "metadata": {},
     "output_type": "execute_result"
    }
   ],
   "source": [
    "## [ ... for i in ...] is called list comprehension syntax in Python.\n",
    "## https://www.w3schools.com/python/python_lists_comprehension.asp refer to this link if you want to know futher about it\n",
    "prediction = np.array([round(i) for i in model.predict(X_train)])\n",
    "prediction"
   ]
  },
  {
   "cell_type": "markdown",
   "metadata": {},
   "source": [
    "Now it is giving us integer values. Let's see how off we are!"
   ]
  },
  {
   "cell_type": "code",
   "execution_count": 19,
   "metadata": {},
   "outputs": [
    {
     "data": {
      "text/plain": [
       "2.08722839863291"
      ]
     },
     "execution_count": 19,
     "metadata": {},
     "output_type": "execute_result"
    }
   ],
   "source": [
    "RMSE(y_train,prediction)"
   ]
  },
  {
   "cell_type": "markdown",
   "metadata": {},
   "source": [
    "How bout the accuracy on our test set?(This is what we ACTUALLY want to know)"
   ]
  },
  {
   "cell_type": "code",
   "execution_count": 20,
   "metadata": {},
   "outputs": [
    {
     "data": {
      "text/plain": [
       "2.1036872391113657"
      ]
     },
     "execution_count": 20,
     "metadata": {},
     "output_type": "execute_result"
    }
   ],
   "source": [
    "prediction = np.array([round(i) for i in model.predict(X_test)])\n",
    "RMSE(y_test,prediction)"
   ]
  },
  {
   "attachments": {},
   "cell_type": "markdown",
   "metadata": {},
   "source": [
    "Overall, we are expecting our model to off by around 2 years to the actual age. \n",
    "Not TOO bad for the very basic approach but not satisfying. Is there any other ways to improve our model?"
   ]
  },
  {
   "cell_type": "markdown",
   "metadata": {},
   "source": [
    "## One Hot Encoding\n",
    "\n",
    "Earlier we mentioned how nominal data cannot be accounted for numerically because it is by definition, non-numerical. In order to factor in nominal data in our linear regression model, we must encode these categories, like sex, into numbers. To do this, we can use the One Hot Encoder from sklearn. \n"
   ]
  },
  {
   "cell_type": "code",
   "execution_count": 21,
   "metadata": {},
   "outputs": [
    {
     "data": {
      "text/html": [
       "<div>\n",
       "<style scoped>\n",
       "    .dataframe tbody tr th:only-of-type {\n",
       "        vertical-align: middle;\n",
       "    }\n",
       "\n",
       "    .dataframe tbody tr th {\n",
       "        vertical-align: top;\n",
       "    }\n",
       "\n",
       "    .dataframe thead th {\n",
       "        text-align: right;\n",
       "    }\n",
       "</style>\n",
       "<table border=\"1\" class=\"dataframe\">\n",
       "  <thead>\n",
       "    <tr style=\"text-align: right;\">\n",
       "      <th></th>\n",
       "      <th>Sex_0.025</th>\n",
       "      <th>Sex_F</th>\n",
       "      <th>Sex_I</th>\n",
       "      <th>Sex_M</th>\n",
       "    </tr>\n",
       "  </thead>\n",
       "  <tbody>\n",
       "    <tr>\n",
       "      <th>0</th>\n",
       "      <td>0.0</td>\n",
       "      <td>0.0</td>\n",
       "      <td>0.0</td>\n",
       "      <td>1.0</td>\n",
       "    </tr>\n",
       "    <tr>\n",
       "      <th>1</th>\n",
       "      <td>0.0</td>\n",
       "      <td>0.0</td>\n",
       "      <td>1.0</td>\n",
       "      <td>0.0</td>\n",
       "    </tr>\n",
       "    <tr>\n",
       "      <th>2</th>\n",
       "      <td>0.0</td>\n",
       "      <td>1.0</td>\n",
       "      <td>0.0</td>\n",
       "      <td>0.0</td>\n",
       "    </tr>\n",
       "    <tr>\n",
       "      <th>3</th>\n",
       "      <td>0.0</td>\n",
       "      <td>0.0</td>\n",
       "      <td>1.0</td>\n",
       "      <td>0.0</td>\n",
       "    </tr>\n",
       "    <tr>\n",
       "      <th>4</th>\n",
       "      <td>0.0</td>\n",
       "      <td>0.0</td>\n",
       "      <td>1.0</td>\n",
       "      <td>0.0</td>\n",
       "    </tr>\n",
       "    <tr>\n",
       "      <th>...</th>\n",
       "      <td>...</td>\n",
       "      <td>...</td>\n",
       "      <td>...</td>\n",
       "      <td>...</td>\n",
       "    </tr>\n",
       "    <tr>\n",
       "      <th>199995</th>\n",
       "      <td>0.0</td>\n",
       "      <td>1.0</td>\n",
       "      <td>0.0</td>\n",
       "      <td>0.0</td>\n",
       "    </tr>\n",
       "    <tr>\n",
       "      <th>199996</th>\n",
       "      <td>0.0</td>\n",
       "      <td>1.0</td>\n",
       "      <td>0.0</td>\n",
       "      <td>0.0</td>\n",
       "    </tr>\n",
       "    <tr>\n",
       "      <th>199997</th>\n",
       "      <td>0.0</td>\n",
       "      <td>0.0</td>\n",
       "      <td>0.0</td>\n",
       "      <td>1.0</td>\n",
       "    </tr>\n",
       "    <tr>\n",
       "      <th>199998</th>\n",
       "      <td>0.0</td>\n",
       "      <td>0.0</td>\n",
       "      <td>1.0</td>\n",
       "      <td>0.0</td>\n",
       "    </tr>\n",
       "    <tr>\n",
       "      <th>199999</th>\n",
       "      <td>0.0</td>\n",
       "      <td>1.0</td>\n",
       "      <td>0.0</td>\n",
       "      <td>0.0</td>\n",
       "    </tr>\n",
       "  </tbody>\n",
       "</table>\n",
       "<p>200000 rows × 4 columns</p>\n",
       "</div>"
      ],
      "text/plain": [
       "        Sex_0.025  Sex_F  Sex_I  Sex_M\n",
       "0             0.0    0.0    0.0    1.0\n",
       "1             0.0    0.0    1.0    0.0\n",
       "2             0.0    1.0    0.0    0.0\n",
       "3             0.0    0.0    1.0    0.0\n",
       "4             0.0    0.0    1.0    0.0\n",
       "...           ...    ...    ...    ...\n",
       "199995        0.0    1.0    0.0    0.0\n",
       "199996        0.0    1.0    0.0    0.0\n",
       "199997        0.0    0.0    0.0    1.0\n",
       "199998        0.0    0.0    1.0    0.0\n",
       "199999        0.0    1.0    0.0    0.0\n",
       "\n",
       "[200000 rows x 4 columns]"
      ]
     },
     "execution_count": 21,
     "metadata": {},
     "output_type": "execute_result"
    }
   ],
   "source": [
    "from sklearn.preprocessing import OneHotEncoder\n",
    "ohe = OneHotEncoder(handle_unknown='ignore', sparse_output = False).set_output(transform='pandas')\n",
    "ohetransform = ohe.fit_transform(data[['Sex']])\n",
    "ohetransform"
   ]
  },
  {
   "cell_type": "markdown",
   "metadata": {},
   "source": [
    "Now lets append the numerical values for sex into our dataset"
   ]
  },
  {
   "cell_type": "code",
   "execution_count": 22,
   "metadata": {},
   "outputs": [
    {
     "data": {
      "text/html": [
       "<div>\n",
       "<style scoped>\n",
       "    .dataframe tbody tr th:only-of-type {\n",
       "        vertical-align: middle;\n",
       "    }\n",
       "\n",
       "    .dataframe tbody tr th {\n",
       "        vertical-align: top;\n",
       "    }\n",
       "\n",
       "    .dataframe thead th {\n",
       "        text-align: right;\n",
       "    }\n",
       "</style>\n",
       "<table border=\"1\" class=\"dataframe\">\n",
       "  <thead>\n",
       "    <tr style=\"text-align: right;\">\n",
       "      <th></th>\n",
       "      <th>Length</th>\n",
       "      <th>Diameter</th>\n",
       "      <th>Height</th>\n",
       "      <th>Weight</th>\n",
       "      <th>Shucked Weight</th>\n",
       "      <th>Viscera Weight</th>\n",
       "      <th>Shell Weight</th>\n",
       "      <th>Age</th>\n",
       "      <th>Sex_0.025</th>\n",
       "      <th>Sex_F</th>\n",
       "      <th>Sex_I</th>\n",
       "      <th>Sex_M</th>\n",
       "    </tr>\n",
       "  </thead>\n",
       "  <tbody>\n",
       "    <tr>\n",
       "      <th>0</th>\n",
       "      <td>1.5750</td>\n",
       "      <td>1.2250</td>\n",
       "      <td>0.3750</td>\n",
       "      <td>31.226974</td>\n",
       "      <td>12.303683</td>\n",
       "      <td>6.321938</td>\n",
       "      <td>9.638830</td>\n",
       "      <td>10.0</td>\n",
       "      <td>0.0</td>\n",
       "      <td>0.0</td>\n",
       "      <td>0.0</td>\n",
       "      <td>1.0</td>\n",
       "    </tr>\n",
       "    <tr>\n",
       "      <th>1</th>\n",
       "      <td>1.2375</td>\n",
       "      <td>1.0000</td>\n",
       "      <td>0.3750</td>\n",
       "      <td>21.885814</td>\n",
       "      <td>7.654365</td>\n",
       "      <td>3.798833</td>\n",
       "      <td>7.654365</td>\n",
       "      <td>19.0</td>\n",
       "      <td>0.0</td>\n",
       "      <td>0.0</td>\n",
       "      <td>1.0</td>\n",
       "      <td>0.0</td>\n",
       "    </tr>\n",
       "    <tr>\n",
       "      <th>2</th>\n",
       "      <td>1.4500</td>\n",
       "      <td>1.1625</td>\n",
       "      <td>0.4125</td>\n",
       "      <td>28.250277</td>\n",
       "      <td>11.127179</td>\n",
       "      <td>7.016501</td>\n",
       "      <td>7.257472</td>\n",
       "      <td>11.0</td>\n",
       "      <td>0.0</td>\n",
       "      <td>1.0</td>\n",
       "      <td>0.0</td>\n",
       "      <td>0.0</td>\n",
       "    </tr>\n",
       "    <tr>\n",
       "      <th>3</th>\n",
       "      <td>1.3500</td>\n",
       "      <td>1.0250</td>\n",
       "      <td>0.3750</td>\n",
       "      <td>21.588144</td>\n",
       "      <td>9.738053</td>\n",
       "      <td>4.110678</td>\n",
       "      <td>6.378637</td>\n",
       "      <td>9.0</td>\n",
       "      <td>0.0</td>\n",
       "      <td>0.0</td>\n",
       "      <td>1.0</td>\n",
       "      <td>0.0</td>\n",
       "    </tr>\n",
       "    <tr>\n",
       "      <th>4</th>\n",
       "      <td>1.1375</td>\n",
       "      <td>0.8750</td>\n",
       "      <td>0.2875</td>\n",
       "      <td>14.968536</td>\n",
       "      <td>5.953395</td>\n",
       "      <td>2.962523</td>\n",
       "      <td>3.713785</td>\n",
       "      <td>8.0</td>\n",
       "      <td>0.0</td>\n",
       "      <td>0.0</td>\n",
       "      <td>1.0</td>\n",
       "      <td>0.0</td>\n",
       "    </tr>\n",
       "    <tr>\n",
       "      <th>5</th>\n",
       "      <td>1.4875</td>\n",
       "      <td>1.1875</td>\n",
       "      <td>0.4000</td>\n",
       "      <td>28.335325</td>\n",
       "      <td>12.048538</td>\n",
       "      <td>7.668540</td>\n",
       "      <td>8.504850</td>\n",
       "      <td>10.0</td>\n",
       "      <td>0.0</td>\n",
       "      <td>1.0</td>\n",
       "      <td>0.0</td>\n",
       "      <td>0.0</td>\n",
       "    </tr>\n",
       "    <tr>\n",
       "      <th>6</th>\n",
       "      <td>1.5250</td>\n",
       "      <td>1.1875</td>\n",
       "      <td>0.4375</td>\n",
       "      <td>31.581343</td>\n",
       "      <td>11.382324</td>\n",
       "      <td>7.980384</td>\n",
       "      <td>9.213587</td>\n",
       "      <td>14.0</td>\n",
       "      <td>0.0</td>\n",
       "      <td>0.0</td>\n",
       "      <td>0.0</td>\n",
       "      <td>1.0</td>\n",
       "    </tr>\n",
       "    <tr>\n",
       "      <th>7</th>\n",
       "      <td>1.6250</td>\n",
       "      <td>1.2875</td>\n",
       "      <td>0.4375</td>\n",
       "      <td>42.212406</td>\n",
       "      <td>17.704263</td>\n",
       "      <td>8.660772</td>\n",
       "      <td>11.339800</td>\n",
       "      <td>13.0</td>\n",
       "      <td>0.0</td>\n",
       "      <td>0.0</td>\n",
       "      <td>0.0</td>\n",
       "      <td>1.0</td>\n",
       "    </tr>\n",
       "    <tr>\n",
       "      <th>8</th>\n",
       "      <td>1.3375</td>\n",
       "      <td>1.0500</td>\n",
       "      <td>0.3875</td>\n",
       "      <td>23.090668</td>\n",
       "      <td>12.048538</td>\n",
       "      <td>4.379998</td>\n",
       "      <td>6.038443</td>\n",
       "      <td>9.0</td>\n",
       "      <td>0.0</td>\n",
       "      <td>0.0</td>\n",
       "      <td>0.0</td>\n",
       "      <td>1.0</td>\n",
       "    </tr>\n",
       "    <tr>\n",
       "      <th>9</th>\n",
       "      <td>1.3375</td>\n",
       "      <td>1.0125</td>\n",
       "      <td>0.3375</td>\n",
       "      <td>18.313777</td>\n",
       "      <td>8.944267</td>\n",
       "      <td>4.195726</td>\n",
       "      <td>5.953395</td>\n",
       "      <td>10.0</td>\n",
       "      <td>0.0</td>\n",
       "      <td>1.0</td>\n",
       "      <td>0.0</td>\n",
       "      <td>0.0</td>\n",
       "    </tr>\n",
       "  </tbody>\n",
       "</table>\n",
       "</div>"
      ],
      "text/plain": [
       "   Length  Diameter  Height     Weight  Shucked Weight  Viscera Weight  \\\n",
       "0  1.5750    1.2250  0.3750  31.226974       12.303683        6.321938   \n",
       "1  1.2375    1.0000  0.3750  21.885814        7.654365        3.798833   \n",
       "2  1.4500    1.1625  0.4125  28.250277       11.127179        7.016501   \n",
       "3  1.3500    1.0250  0.3750  21.588144        9.738053        4.110678   \n",
       "4  1.1375    0.8750  0.2875  14.968536        5.953395        2.962523   \n",
       "5  1.4875    1.1875  0.4000  28.335325       12.048538        7.668540   \n",
       "6  1.5250    1.1875  0.4375  31.581343       11.382324        7.980384   \n",
       "7  1.6250    1.2875  0.4375  42.212406       17.704263        8.660772   \n",
       "8  1.3375    1.0500  0.3875  23.090668       12.048538        4.379998   \n",
       "9  1.3375    1.0125  0.3375  18.313777        8.944267        4.195726   \n",
       "\n",
       "   Shell Weight   Age  Sex_0.025  Sex_F  Sex_I  Sex_M  \n",
       "0      9.638830  10.0        0.0    0.0    0.0    1.0  \n",
       "1      7.654365  19.0        0.0    0.0    1.0    0.0  \n",
       "2      7.257472  11.0        0.0    1.0    0.0    0.0  \n",
       "3      6.378637   9.0        0.0    0.0    1.0    0.0  \n",
       "4      3.713785   8.0        0.0    0.0    1.0    0.0  \n",
       "5      8.504850  10.0        0.0    1.0    0.0    0.0  \n",
       "6      9.213587  14.0        0.0    0.0    0.0    1.0  \n",
       "7     11.339800  13.0        0.0    0.0    0.0    1.0  \n",
       "8      6.038443   9.0        0.0    0.0    0.0    1.0  \n",
       "9      5.953395  10.0        0.0    1.0    0.0    0.0  "
      ]
     },
     "execution_count": 22,
     "metadata": {},
     "output_type": "execute_result"
    }
   ],
   "source": [
    "data = pd.concat([data, ohetransform], axis = 1).drop(columns = ['Sex'])\n",
    "data.head(10)"
   ]
  },
  {
   "cell_type": "markdown",
   "metadata": {},
   "source": [
    "## Data Normalization Techniques \n",
    "\n",
    "Another data preprocessing technique is data normalization, which is the process of rescaling the numerical features of a dataset to a standard range. In other words, we want to \"level the playing field\" so that certain numerical features do not dominate others trivially.\n",
    "\n",
    "Firstly we will show linear normalization, otherwise known as \"max/min scaling\""
   ]
  },
  {
   "cell_type": "code",
   "execution_count": 28,
   "metadata": {},
   "outputs": [
    {
     "data": {
      "text/html": [
       "<div>\n",
       "<style scoped>\n",
       "    .dataframe tbody tr th:only-of-type {\n",
       "        vertical-align: middle;\n",
       "    }\n",
       "\n",
       "    .dataframe tbody tr th {\n",
       "        vertical-align: top;\n",
       "    }\n",
       "\n",
       "    .dataframe thead th {\n",
       "        text-align: right;\n",
       "    }\n",
       "</style>\n",
       "<table border=\"1\" class=\"dataframe\">\n",
       "  <thead>\n",
       "    <tr style=\"text-align: right;\">\n",
       "      <th></th>\n",
       "      <th>Length</th>\n",
       "      <th>Diameter</th>\n",
       "      <th>Height</th>\n",
       "      <th>Weight</th>\n",
       "      <th>Shucked Weight</th>\n",
       "      <th>Viscera Weight</th>\n",
       "      <th>Shell Weight</th>\n",
       "      <th>Age</th>\n",
       "      <th>Sex_0.025</th>\n",
       "      <th>Sex_F</th>\n",
       "      <th>Sex_I</th>\n",
       "      <th>Sex_M</th>\n",
       "    </tr>\n",
       "  </thead>\n",
       "  <tbody>\n",
       "    <tr>\n",
       "      <th>0</th>\n",
       "      <td>0.207688</td>\n",
       "      <td>0.544444</td>\n",
       "      <td>0.132743</td>\n",
       "      <td>0.389626</td>\n",
       "      <td>0.271531</td>\n",
       "      <td>0.241585</td>\n",
       "      <td>0.259387</td>\n",
       "      <td>0.321429</td>\n",
       "      <td>0.0</td>\n",
       "      <td>0.0</td>\n",
       "      <td>0.0</td>\n",
       "      <td>1.0</td>\n",
       "    </tr>\n",
       "    <tr>\n",
       "      <th>1</th>\n",
       "      <td>0.163183</td>\n",
       "      <td>0.444444</td>\n",
       "      <td>0.132743</td>\n",
       "      <td>0.272969</td>\n",
       "      <td>0.168807</td>\n",
       "      <td>0.144951</td>\n",
       "      <td>0.205747</td>\n",
       "      <td>0.642857</td>\n",
       "      <td>0.0</td>\n",
       "      <td>0.0</td>\n",
       "      <td>1.0</td>\n",
       "      <td>0.0</td>\n",
       "    </tr>\n",
       "    <tr>\n",
       "      <th>2</th>\n",
       "      <td>0.191205</td>\n",
       "      <td>0.516667</td>\n",
       "      <td>0.146018</td>\n",
       "      <td>0.352452</td>\n",
       "      <td>0.245537</td>\n",
       "      <td>0.268187</td>\n",
       "      <td>0.195019</td>\n",
       "      <td>0.357143</td>\n",
       "      <td>0.0</td>\n",
       "      <td>1.0</td>\n",
       "      <td>0.0</td>\n",
       "      <td>0.0</td>\n",
       "    </tr>\n",
       "    <tr>\n",
       "      <th>3</th>\n",
       "      <td>0.178018</td>\n",
       "      <td>0.455556</td>\n",
       "      <td>0.132743</td>\n",
       "      <td>0.269251</td>\n",
       "      <td>0.214845</td>\n",
       "      <td>0.156895</td>\n",
       "      <td>0.171264</td>\n",
       "      <td>0.285714</td>\n",
       "      <td>0.0</td>\n",
       "      <td>0.0</td>\n",
       "      <td>1.0</td>\n",
       "      <td>0.0</td>\n",
       "    </tr>\n",
       "    <tr>\n",
       "      <th>4</th>\n",
       "      <td>0.149997</td>\n",
       "      <td>0.388889</td>\n",
       "      <td>0.101770</td>\n",
       "      <td>0.186582</td>\n",
       "      <td>0.131225</td>\n",
       "      <td>0.112921</td>\n",
       "      <td>0.099234</td>\n",
       "      <td>0.250000</td>\n",
       "      <td>0.0</td>\n",
       "      <td>0.0</td>\n",
       "      <td>1.0</td>\n",
       "      <td>0.0</td>\n",
       "    </tr>\n",
       "    <tr>\n",
       "      <th>...</th>\n",
       "      <td>...</td>\n",
       "      <td>...</td>\n",
       "      <td>...</td>\n",
       "      <td>...</td>\n",
       "      <td>...</td>\n",
       "      <td>...</td>\n",
       "      <td>...</td>\n",
       "      <td>...</td>\n",
       "      <td>...</td>\n",
       "      <td>...</td>\n",
       "      <td>...</td>\n",
       "      <td>...</td>\n",
       "    </tr>\n",
       "    <tr>\n",
       "      <th>199995</th>\n",
       "      <td>0.239006</td>\n",
       "      <td>0.566667</td>\n",
       "      <td>0.154867</td>\n",
       "      <td>0.525934</td>\n",
       "      <td>0.441591</td>\n",
       "      <td>0.381650</td>\n",
       "      <td>0.312644</td>\n",
       "      <td>0.357143</td>\n",
       "      <td>0.0</td>\n",
       "      <td>1.0</td>\n",
       "      <td>0.0</td>\n",
       "      <td>0.0</td>\n",
       "    </tr>\n",
       "    <tr>\n",
       "      <th>199996</th>\n",
       "      <td>0.130217</td>\n",
       "      <td>0.300000</td>\n",
       "      <td>0.084071</td>\n",
       "      <td>0.099310</td>\n",
       "      <td>0.082368</td>\n",
       "      <td>0.072747</td>\n",
       "      <td>0.060153</td>\n",
       "      <td>0.178571</td>\n",
       "      <td>0.0</td>\n",
       "      <td>1.0</td>\n",
       "      <td>0.0</td>\n",
       "      <td>0.0</td>\n",
       "    </tr>\n",
       "    <tr>\n",
       "      <th>199997</th>\n",
       "      <td>0.148349</td>\n",
       "      <td>0.405556</td>\n",
       "      <td>0.101770</td>\n",
       "      <td>0.135599</td>\n",
       "      <td>0.108049</td>\n",
       "      <td>0.075461</td>\n",
       "      <td>0.083142</td>\n",
       "      <td>0.214286</td>\n",
       "      <td>0.0</td>\n",
       "      <td>0.0</td>\n",
       "      <td>0.0</td>\n",
       "      <td>1.0</td>\n",
       "    </tr>\n",
       "    <tr>\n",
       "      <th>199998</th>\n",
       "      <td>0.214281</td>\n",
       "      <td>0.566667</td>\n",
       "      <td>0.146018</td>\n",
       "      <td>0.422907</td>\n",
       "      <td>0.291262</td>\n",
       "      <td>0.300760</td>\n",
       "      <td>0.282375</td>\n",
       "      <td>0.357143</td>\n",
       "      <td>0.0</td>\n",
       "      <td>0.0</td>\n",
       "      <td>1.0</td>\n",
       "      <td>0.0</td>\n",
       "    </tr>\n",
       "    <tr>\n",
       "      <th>199999</th>\n",
       "      <td>0.209336</td>\n",
       "      <td>0.555556</td>\n",
       "      <td>0.137168</td>\n",
       "      <td>0.428925</td>\n",
       "      <td>0.380207</td>\n",
       "      <td>0.282302</td>\n",
       "      <td>0.236398</td>\n",
       "      <td>0.357143</td>\n",
       "      <td>0.0</td>\n",
       "      <td>1.0</td>\n",
       "      <td>0.0</td>\n",
       "      <td>0.0</td>\n",
       "    </tr>\n",
       "  </tbody>\n",
       "</table>\n",
       "<p>200000 rows × 12 columns</p>\n",
       "</div>"
      ],
      "text/plain": [
       "          Length  Diameter    Height    Weight  Shucked Weight  \\\n",
       "0       0.207688  0.544444  0.132743  0.389626        0.271531   \n",
       "1       0.163183  0.444444  0.132743  0.272969        0.168807   \n",
       "2       0.191205  0.516667  0.146018  0.352452        0.245537   \n",
       "3       0.178018  0.455556  0.132743  0.269251        0.214845   \n",
       "4       0.149997  0.388889  0.101770  0.186582        0.131225   \n",
       "...          ...       ...       ...       ...             ...   \n",
       "199995  0.239006  0.566667  0.154867  0.525934        0.441591   \n",
       "199996  0.130217  0.300000  0.084071  0.099310        0.082368   \n",
       "199997  0.148349  0.405556  0.101770  0.135599        0.108049   \n",
       "199998  0.214281  0.566667  0.146018  0.422907        0.291262   \n",
       "199999  0.209336  0.555556  0.137168  0.428925        0.380207   \n",
       "\n",
       "        Viscera Weight  Shell Weight       Age  Sex_0.025  Sex_F  Sex_I  Sex_M  \n",
       "0             0.241585      0.259387  0.321429        0.0    0.0    0.0    1.0  \n",
       "1             0.144951      0.205747  0.642857        0.0    0.0    1.0    0.0  \n",
       "2             0.268187      0.195019  0.357143        0.0    1.0    0.0    0.0  \n",
       "3             0.156895      0.171264  0.285714        0.0    0.0    1.0    0.0  \n",
       "4             0.112921      0.099234  0.250000        0.0    0.0    1.0    0.0  \n",
       "...                ...           ...       ...        ...    ...    ...    ...  \n",
       "199995        0.381650      0.312644  0.357143        0.0    1.0    0.0    0.0  \n",
       "199996        0.072747      0.060153  0.178571        0.0    1.0    0.0    0.0  \n",
       "199997        0.075461      0.083142  0.214286        0.0    0.0    0.0    1.0  \n",
       "199998        0.300760      0.282375  0.357143        0.0    0.0    1.0    0.0  \n",
       "199999        0.282302      0.236398  0.357143        0.0    1.0    0.0    0.0  \n",
       "\n",
       "[200000 rows x 12 columns]"
      ]
     },
     "execution_count": 28,
     "metadata": {},
     "output_type": "execute_result"
    }
   ],
   "source": [
    "import matplotlib as plt\n",
    "import seaborn as sns\n",
    "from sklearn.preprocessing import MinMaxScaler\n",
    "scaler = MinMaxScaler()\n",
    "\n",
    "NormData = scaler.fit_transform(data)\n",
    "\n",
    "NormData = pd.DataFrame(NormData, columns = data.columns)\n",
    "NormData"
   ]
  },
  {
   "cell_type": "markdown",
   "metadata": {},
   "source": [
    "Linear normalization transforms each data point to a value within the range of 0 to 1. This crucial preprocessing step ensures that the magnitudes of various data categories are uniformly scaled, preventing any potential misinterpretation of their relative importance. "
   ]
  },
  {
   "cell_type": "code",
   "execution_count": null,
   "metadata": {},
   "outputs": [],
   "source": [
    "from sklearn.preprocessing import StandardScaler\n",
    "sc = StandardScaler()"
   ]
  }
 ],
 "metadata": {
  "kernelspec": {
   "display_name": "Python 3 (ipykernel)",
   "language": "python",
   "name": "python3"
  },
  "language_info": {
   "codemirror_mode": {
    "name": "ipython",
    "version": 3
   },
   "file_extension": ".py",
   "mimetype": "text/x-python",
   "name": "python",
   "nbconvert_exporter": "python",
   "pygments_lexer": "ipython3",
   "version": "3.9.18"
  }
 },
 "nbformat": 4,
 "nbformat_minor": 4
}
